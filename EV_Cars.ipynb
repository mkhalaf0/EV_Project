{
 "cells": [
  {
   "cell_type": "code",
   "execution_count": 8,
   "id": "8d9f7cae",
   "metadata": {
    "scrolled": false
   },
   "outputs": [
    {
     "name": "stdout",
     "output_type": "stream",
     "text": [
      "Requirement already satisfied: pytesseract in c:\\users\\msikh\\anaconda3\\lib\\site-packages (0.3.10)\n",
      "Requirement already satisfied: Pillow>=8.0.0 in c:\\users\\msikh\\anaconda3\\lib\\site-packages (from pytesseract) (10.0.0)\n",
      "Requirement already satisfied: packaging>=21.3 in c:\\users\\msikh\\anaconda3\\lib\\site-packages (from pytesseract) (21.3)\n",
      "Requirement already satisfied: pyparsing!=3.0.5,>=2.0.2 in c:\\users\\msikh\\anaconda3\\lib\\site-packages (from packaging>=21.3->pytesseract) (3.0.4)\n"
     ]
    },
    {
     "name": "stderr",
     "output_type": "stream",
     "text": [
      "WARNING: Ignoring invalid distribution -ordcloud (c:\\users\\msikh\\anaconda3\\lib\\site-packages)\n",
      "WARNING: Ignoring invalid distribution -illow (c:\\users\\msikh\\anaconda3\\lib\\site-packages)\n",
      "WARNING: Ignoring invalid distribution -ordcloud (c:\\users\\msikh\\anaconda3\\lib\\site-packages)\n",
      "WARNING: Ignoring invalid distribution -illow (c:\\users\\msikh\\anaconda3\\lib\\site-packages)\n",
      "WARNING: Ignoring invalid distribution -ordcloud (c:\\users\\msikh\\anaconda3\\lib\\site-packages)\n",
      "WARNING: Ignoring invalid distribution -illow (c:\\users\\msikh\\anaconda3\\lib\\site-packages)\n",
      "WARNING: Ignoring invalid distribution -ordcloud (c:\\users\\msikh\\anaconda3\\lib\\site-packages)\n",
      "WARNING: Ignoring invalid distribution -illow (c:\\users\\msikh\\anaconda3\\lib\\site-packages)\n",
      "WARNING: Ignoring invalid distribution -ordcloud (c:\\users\\msikh\\anaconda3\\lib\\site-packages)\n",
      "WARNING: Ignoring invalid distribution -illow (c:\\users\\msikh\\anaconda3\\lib\\site-packages)\n",
      "WARNING: Ignoring invalid distribution -ordcloud (c:\\users\\msikh\\anaconda3\\lib\\site-packages)\n",
      "WARNING: Ignoring invalid distribution -illow (c:\\users\\msikh\\anaconda3\\lib\\site-packages)\n"
     ]
    }
   ],
   "source": [
    "!pip install pytesseract"
   ]
  },
  {
   "cell_type": "code",
   "execution_count": 53,
   "id": "2f39bcf8",
   "metadata": {
    "scrolled": true
   },
   "outputs": [
    {
     "name": "stdout",
     "output_type": "stream",
     "text": [
      "| 12:17 4 ~ Fe }\n",
      "< My Trips Trip G)\n",
      "28 Mar 2024 Long Trip\n",
      "Time Summary\n",
      "01 h09m51 s\n",
      "Distance\n",
      "53.8mile\n",
      "Travel Time Max. Speed\n",
      "01 109122. 80. 4imph\n",
      "Stopped Time Avg Speed\n",
      "00.29. 46 5Sinpn\n",
      "Max. Altitude Avg Altitude\n",
      "1565: 9418\n",
      "Map & Graphs\n",
      "%y %\n",
      "\n"
     ]
    }
   ],
   "source": [
    "import cv2\n",
    "import pytesseract\n",
    "\n",
    "pytesseract.pytesseract.tesseract_cmd = r\"C:\\Program Files\\Tesseract-OCR\\tesseract.exe\"\n",
    "\n",
    "# Grayscale, Gaussian blur, Otsu's threshold\n",
    "image = cv2.imread('Data_EV_1.jpg')\n",
    "gray = cv2.cvtColor(image, cv2.COLOR_BGR2GRAY)\n",
    "blur = cv2.GaussianBlur(gray, (3,3), 0)\n",
    "thresh = cv2.threshold(blur, 0, 255, cv2.THRESH_BINARY_INV + cv2.THRESH_OTSU)[1]\n",
    "\n",
    "# Morph open to remove noise and invert image\n",
    "kernel = cv2.getStructuringElement(cv2.MORPH_RECT, (3,3))\n",
    "opening = cv2.morphologyEx(thresh, cv2.MORPH_OPEN, kernel, iterations=1)\n",
    "invert = 255 - opening\n",
    "\n",
    "# Perform text extraction\n",
    "text = pytesseract.image_to_string(invert, lang='eng', config='--psm 6')\n",
    "print(text)\n",
    "\n",
    "#cv2.waitKey()"
   ]
  },
  {
   "cell_type": "code",
   "execution_count": 59,
   "id": "86e0f376",
   "metadata": {},
   "outputs": [],
   "source": [
    "text1=text\n",
    "text1\n",
    "text2=\"| 12:17 4 ~ Fe }\\n< My Trips Trip G)\\n28 Mar 2024 Long Trip\\nTime Summary\\n01 h09m00 s\\nDistance\\n53.9mile\\nTravel Time Max. Speed\\n01 109122. 80. 4imph\\nStopped Time Avg Speed\\n00.29. 46 5Sinpn\\nMax. Altitude Avg Altitude\\n1565: 9418\\nMap & Graphs\\n%y %\\n\""
   ]
  },
  {
   "cell_type": "code",
   "execution_count": 55,
   "id": "52dc684b",
   "metadata": {},
   "outputs": [
    {
     "data": {
      "text/plain": [
       "{'Time Summary': '01 h09m51 s',\n",
       " 'Distance': '53.8mile',\n",
       " 'Avg Speed': '46.5mph',\n",
       " 'Max Altitude': '1565 ft',\n",
       " 'Avg Altitude': '9418 ft',\n",
       " 'Elevation Gain': '7853 ft'}"
      ]
     },
     "execution_count": 55,
     "metadata": {},
     "output_type": "execute_result"
    }
   ],
   "source": [
    "import re\n",
    "# Regex patterns to extract relevant data\n",
    "patterns = {\n",
    "    \"Time Summary\": r\"Time Summary\\s*([\\d\\w\\s]+?)(?=\\n|$)\",\n",
    "    \"Distance\": r\"Distance\\s*([\\d\\.]+mile)\",\n",
    "    \"Avg Speed\": r\"Avg Speed\\s*([\\d\\.]+\\s*[a-zA-Z]+)\",\n",
    "    \"Max Altitude\": r\"Avg Altitude\\s*([\\d,]+)\",\n",
    "    \"Avg Speed\": r\"Avg Speed\\s*([\\d\\w\\s:.]+?)(?=\\n|$)\",\n",
    "    \"Avg Altitude\": r\"Avg Altitude\\s*([\\d,]+)\"\n",
    "}\n",
    "\n",
    "# Extracting and cleaning the data\n",
    "extracted_data = {}\n",
    "for key, pattern in patterns.items():\n",
    "    # Search using the pattern\n",
    "    match = re.search(pattern, text, re.IGNORECASE)\n",
    "    if match:\n",
    "        value = match.group(1).strip()\n",
    "        if key == \"Avg Speed\":\n",
    "                # Remove any unwanted prefix numbers followed by a period\n",
    "                value = re.sub(r\"^\\d+\\.\\d+\\s*\", \"\", value)\n",
    "                value= value.replace(\"Sinpn\",\"mph\")\n",
    "                value= value.replace(\" \",\".\")\n",
    "                value= value.replace(\"..\",\"\")\n",
    "        if key in [\"Max Altitude\", \"Avg Altitude\"]:\n",
    "            value = value.replace(\":\", \"\").strip() + \" ft\"  # Correct format and OCR error ':'\n",
    "        extracted_data[key] = value\n",
    "pattern = r\"Avg Altitude\\s*([\\d,]+)\\s*:\\s*([\\d,]+)\"\n",
    "\n",
    "# Search using the pattern\n",
    "match = re.search(pattern, ocr_text, re.IGNORECASE)\n",
    "if match:\n",
    "    avg_altitude_first = match.group(1).replace(',', '').strip()   # Clean up first number\n",
    "    avg_altitude_next = match.group(2).replace(',', '').strip()  # Clean up second number\n",
    "\n",
    "# # Display the cleaned data\n",
    "extracted_data['Avg Altitude']= avg_altitude_next + \" ft\"\n",
    "extracted_data[\"Elevation Gain\"]= str((int(avg_altitude_next) - int(avg_altitude_first) ))+ \" ft\"\n",
    "# patterns_2\n",
    "extracted_data\n",
    "# for key, pattern in patterns_2.items():\n",
    "#     # Search using the pattern\n",
    "#     match = re.search(pattern, ocr_text, re.IGNORECASE)\n",
    "#     extracted_data[2+key]"
   ]
  },
  {
   "cell_type": "code",
   "execution_count": 60,
   "id": "516ed3d6",
   "metadata": {},
   "outputs": [
    {
     "name": "stdout",
     "output_type": "stream",
     "text": [
      "  Time Summary  Distance Avg Speed Max Altitude Avg Altitude Elevation Gain\n",
      "0  01 h09m51 s  53.8mile   46.5mph      1565 ft      9418 ft        7853 ft\n",
      "1  01 h09m00 s  53.9mile   46.5mph      1565 ft      9418 ft        7853 ft\n"
     ]
    },
    {
     "name": "stderr",
     "output_type": "stream",
     "text": [
      "C:\\Users\\msikh\\AppData\\Local\\Temp\\ipykernel_25624\\3634173401.py:51: FutureWarning: The frame.append method is deprecated and will be removed from pandas in a future version. Use pandas.concat instead.\n",
      "  extracted_data_df = extracted_data_df.append(data, ignore_index=True)\n",
      "C:\\Users\\msikh\\AppData\\Local\\Temp\\ipykernel_25624\\3634173401.py:51: FutureWarning: The frame.append method is deprecated and will be removed from pandas in a future version. Use pandas.concat instead.\n",
      "  extracted_data_df = extracted_data_df.append(data, ignore_index=True)\n"
     ]
    }
   ],
   "source": [
    "import re\n",
    "import pandas as pd\n",
    "\n",
    "# Initialize DataFrame to store data\n",
    "data_columns = [\"Time Summary\", \"Distance\", \"Avg Speed\", \"Max Altitude\", \"Avg Altitude\", \"Elevation Gain\"]\n",
    "extracted_data_df = pd.DataFrame(columns=data_columns)\n",
    "\n",
    "# Function to process text\n",
    "def process_text(ocr_text):\n",
    "    # Regex patterns to extract relevant data\n",
    "    patterns = {\n",
    "        \"Time Summary\": r\"Time Summary\\s*([\\d\\w\\s]+?)(?=\\n|$)\",\n",
    "        \"Distance\": r\"Distance\\s*([\\d\\.]+mile)\",\n",
    "        \"Avg Speed\": r\"Avg Speed\\s*([\\d\\.]+\\s*[a-zA-Z]+)\",\n",
    "        \"Max Altitude\": r\"Avg Altitude\\s*([\\d,]+)\",\n",
    "        \"Avg Speed\": r\"Avg Speed\\s*([\\d\\w\\s:.]+?)(?=\\n|$)\",\n",
    "        \"Avg Altitude\": r\"Avg Altitude\\s*([\\d,]+)\"\n",
    "    }\n",
    "\n",
    "    # Extracting and cleaning the data\n",
    "    extracted_data = {}\n",
    "    for key, pattern in patterns.items():\n",
    "        # Search using the pattern\n",
    "        match = re.search(pattern, ocr_text, re.IGNORECASE)\n",
    "        if match:\n",
    "            value = match.group(1).strip()\n",
    "            if key == \"Avg Speed\":\n",
    "                value = re.sub(r\"^\\d+\\.\\d+\\s*\", \"\", value)  # Remove unwanted prefix numbers\n",
    "                value = value.replace(\"Sinpn\", \"mph\").replace(\" \", \".\").replace(\"..\", \"\")\n",
    "            if key in [\"Max Altitude\", \"Avg Altitude\"]:\n",
    "                value = value.replace(\":\", \"\").strip() + \" ft\"  # Correct format and OCR error\n",
    "            extracted_data[key] = value\n",
    "\n",
    "    # Further process for elevation gain\n",
    "    pattern = r\"Avg Altitude\\s*([\\d,]+)\\s*:\\s*([\\d,]+)\"\n",
    "    match = re.search(pattern, ocr_text, re.IGNORECASE)\n",
    "    if match:\n",
    "        avg_altitude_first = match.group(1).replace(',', '').strip()\n",
    "        avg_altitude_next = match.group(2).replace(',', '').strip()\n",
    "        extracted_data['Avg Altitude'] = avg_altitude_next + \" ft\"\n",
    "        extracted_data[\"Elevation Gain\"] = str(int(avg_altitude_next.replace(\" ft\", \"\")) - int(avg_altitude_first.replace(\" ft\", \"\"))) + \" ft\"\n",
    "\n",
    "    return extracted_data\n",
    "\n",
    "# Example texts list\n",
    "texts = [text1,text2]  # You can add more OCR texts to this list\n",
    "\n",
    "# Process each text and append results to DataFrame\n",
    "for text in texts:\n",
    "    data = process_text(text)\n",
    "    extracted_data_df = extracted_data_df.append(data, ignore_index=True)\n",
    "\n",
    "# Show the DataFrame\n",
    "print(extracted_data_df)\n"
   ]
  },
  {
   "cell_type": "code",
   "execution_count": null,
   "id": "ba641d19",
   "metadata": {},
   "outputs": [],
   "source": []
  }
 ],
 "metadata": {
  "kernelspec": {
   "display_name": "Python 3 (ipykernel)",
   "language": "python",
   "name": "python3"
  },
  "language_info": {
   "codemirror_mode": {
    "name": "ipython",
    "version": 3
   },
   "file_extension": ".py",
   "mimetype": "text/x-python",
   "name": "python",
   "nbconvert_exporter": "python",
   "pygments_lexer": "ipython3",
   "version": "3.9.12"
  }
 },
 "nbformat": 4,
 "nbformat_minor": 5
}
