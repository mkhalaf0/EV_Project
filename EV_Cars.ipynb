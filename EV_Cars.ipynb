{
 "cells": [
  {
   "cell_type": "code",
   "execution_count": 9,
   "id": "2f39bcf8",
   "metadata": {
    "scrolled": true
   },
   "outputs": [
    {
     "ename": "ImportError",
     "evalue": "libGL.so.1: cannot open shared object file: No such file or directory",
     "output_type": "error",
     "traceback": [
      "\u001b[0;31m---------------------------------------------------------------------------\u001b[0m",
      "\u001b[0;31mImportError\u001b[0m                               Traceback (most recent call last)",
      "Cell \u001b[0;32mIn[9], line 1\u001b[0m\n\u001b[0;32m----> 1\u001b[0m \u001b[38;5;28;01mimport\u001b[39;00m \u001b[38;5;21;01mcv2\u001b[39;00m\n\u001b[1;32m      2\u001b[0m \u001b[38;5;28;01mimport\u001b[39;00m \u001b[38;5;21;01mpytesseract\u001b[39;00m\n\u001b[1;32m      5\u001b[0m \u001b[38;5;66;03m# Grayscale, Gaussian blur, Otsu's threshold\u001b[39;00m\n",
      "\u001b[0;31mImportError\u001b[0m: libGL.so.1: cannot open shared object file: No such file or directory"
     ]
    }
   ],
   "source": [
    "import cv2\n",
    "import pytesseract\n",
    "\n",
    "pytesseract.pytesseract.tesseract_cmd = r\"C:\\Program Files\\Tesseract-OCR\\tesseract.exe\"\n",
    "\n",
    "# Grayscale, Gaussian blur, Otsu's threshold\n",
    "image = cv2.imread('Data_EV_1.jpg')\n",
    "gray = cv2.cvtColor(image, cv2.COLOR_BGR2GRAY)\n",
    "blur = cv2.GaussianBlur(gray, (3,3), 0)\n",
    "thresh = cv2.threshold(blur, 0, 255, cv2.THRESH_BINARY_INV + cv2.THRESH_OTSU)[1]\n",
    "\n",
    "# Morph open to remove noise and invert image\n",
    "kernel = cv2.getStructuringElement(cv2.MORPH_RECT, (3,3))\n",
    "opening = cv2.morphologyEx(thresh, cv2.MORPH_OPEN, kernel, iterations=1)\n",
    "invert = 255 - opening\n",
    "\n",
    "# Perform text extraction\n",
    "text = pytesseract.image_to_string(invert, lang='eng', config='--psm 6')\n",
    "print(text)\n",
    "\n",
    "#cv2.waitKey()"
   ]
  },
  {
   "cell_type": "code",
   "execution_count": 6,
   "id": "86e0f376",
   "metadata": {},
   "outputs": [
    {
     "ename": "NameError",
     "evalue": "name 'text' is not defined",
     "output_type": "error",
     "traceback": [
      "\u001b[0;31m---------------------------------------------------------------------------\u001b[0m",
      "\u001b[0;31mNameError\u001b[0m                                 Traceback (most recent call last)",
      "Cell \u001b[0;32mIn[6], line 1\u001b[0m\n\u001b[0;32m----> 1\u001b[0m text1\u001b[38;5;241m=\u001b[39m\u001b[43mtext\u001b[49m\n\u001b[1;32m      2\u001b[0m text1\n\u001b[1;32m      3\u001b[0m text2\u001b[38;5;241m=\u001b[39m\u001b[38;5;124m\"\u001b[39m\u001b[38;5;124m| 12:17 4 ~ Fe }\u001b[39m\u001b[38;5;130;01m\\n\u001b[39;00m\u001b[38;5;124m< My Trips Trip G)\u001b[39m\u001b[38;5;130;01m\\n\u001b[39;00m\u001b[38;5;124m28 Mar 2024 Long Trip\u001b[39m\u001b[38;5;130;01m\\n\u001b[39;00m\u001b[38;5;124mTime Summary\u001b[39m\u001b[38;5;130;01m\\n\u001b[39;00m\u001b[38;5;124m01 h09m00 s\u001b[39m\u001b[38;5;130;01m\\n\u001b[39;00m\u001b[38;5;124mDistance\u001b[39m\u001b[38;5;130;01m\\n\u001b[39;00m\u001b[38;5;124m53.9mile\u001b[39m\u001b[38;5;130;01m\\n\u001b[39;00m\u001b[38;5;124mTravel Time Max. Speed\u001b[39m\u001b[38;5;130;01m\\n\u001b[39;00m\u001b[38;5;124m01 109122. 80. 4imph\u001b[39m\u001b[38;5;130;01m\\n\u001b[39;00m\u001b[38;5;124mStopped Time Avg Speed\u001b[39m\u001b[38;5;130;01m\\n\u001b[39;00m\u001b[38;5;124m00.29. 46 5Sinpn\u001b[39m\u001b[38;5;130;01m\\n\u001b[39;00m\u001b[38;5;124mMax. Altitude Avg Altitude\u001b[39m\u001b[38;5;130;01m\\n\u001b[39;00m\u001b[38;5;124m1565: 9418\u001b[39m\u001b[38;5;130;01m\\n\u001b[39;00m\u001b[38;5;124mMap & Graphs\u001b[39m\u001b[38;5;130;01m\\n\u001b[39;00m\u001b[38;5;124m%\u001b[39m\u001b[38;5;124my \u001b[39m\u001b[38;5;124m%\u001b[39m\u001b[38;5;130;01m\\n\u001b[39;00m\u001b[38;5;124m\"\u001b[39m\n",
      "\u001b[0;31mNameError\u001b[0m: name 'text' is not defined"
     ]
    }
   ],
   "source": [
    "text1=text\n",
    "text1\n",
    "text2=\"| 12:17 4 ~ Fe }\\n< My Trips Trip G)\\n28 Mar 2024 Long Trip\\nTime Summary\\n01 h09m00 s\\nDistance\\n53.9mile\\nTravel Time Max. Speed\\n01 109122. 80. 4imph\\nStopped Time Avg Speed\\n00.29. 46 5Sinpn\\nMax. Altitude Avg Altitude\\n1565: 9418\\nMap & Graphs\\n%y %\\n\""
   ]
  },
  {
   "cell_type": "code",
   "execution_count": 55,
   "id": "52dc684b",
   "metadata": {},
   "outputs": [
    {
     "data": {
      "text/plain": [
       "{'Time Summary': '01 h09m51 s',\n",
       " 'Distance': '53.8mile',\n",
       " 'Avg Speed': '46.5mph',\n",
       " 'Max Altitude': '1565 ft',\n",
       " 'Avg Altitude': '9418 ft',\n",
       " 'Elevation Gain': '7853 ft'}"
      ]
     },
     "execution_count": 55,
     "metadata": {},
     "output_type": "execute_result"
    }
   ],
   "source": [
    "import re\n",
    "# Regex patterns to extract relevant data\n",
    "patterns = {\n",
    "    \"Time Summary\": r\"Time Summary\\s*([\\d\\w\\s]+?)(?=\\n|$)\",\n",
    "    \"Distance\": r\"Distance\\s*([\\d\\.]+mile)\",\n",
    "    \"Avg Speed\": r\"Avg Speed\\s*([\\d\\.]+\\s*[a-zA-Z]+)\",\n",
    "    \"Max Altitude\": r\"Avg Altitude\\s*([\\d,]+)\",\n",
    "    \"Avg Speed\": r\"Avg Speed\\s*([\\d\\w\\s:.]+?)(?=\\n|$)\",\n",
    "    \"Avg Altitude\": r\"Avg Altitude\\s*([\\d,]+)\"\n",
    "}\n",
    "\n",
    "# Extracting and cleaning the data\n",
    "extracted_data = {}\n",
    "for key, pattern in patterns.items():\n",
    "    # Search using the pattern\n",
    "    match = re.search(pattern, text, re.IGNORECASE)\n",
    "    if match:\n",
    "        value = match.group(1).strip()\n",
    "        if key == \"Avg Speed\":\n",
    "                # Remove any unwanted prefix numbers followed by a period\n",
    "                value = re.sub(r\"^\\d+\\.\\d+\\s*\", \"\", value)\n",
    "                value= value.replace(\"Sinpn\",\"mph\")\n",
    "                value= value.replace(\" \",\".\")\n",
    "                value= value.replace(\"..\",\"\")\n",
    "        if key in [\"Max Altitude\", \"Avg Altitude\"]:\n",
    "            value = value.replace(\":\", \"\").strip() + \" ft\"  # Correct format and OCR error ':'\n",
    "        extracted_data[key] = value\n",
    "pattern = r\"Avg Altitude\\s*([\\d,]+)\\s*:\\s*([\\d,]+)\"\n",
    "\n",
    "# Search using the pattern\n",
    "match = re.search(pattern, ocr_text, re.IGNORECASE)\n",
    "if match:\n",
    "    avg_altitude_first = match.group(1).replace(',', '').strip()   # Clean up first number\n",
    "    avg_altitude_next = match.group(2).replace(',', '').strip()  # Clean up second number\n",
    "\n",
    "# # Display the cleaned data\n",
    "extracted_data['Avg Altitude']= avg_altitude_next + \" ft\"\n",
    "extracted_data[\"Elevation Gain\"]= str((int(avg_altitude_next) - int(avg_altitude_first) ))+ \" ft\"\n",
    "# patterns_2\n",
    "extracted_data\n",
    "# for key, pattern in patterns_2.items():\n",
    "#     # Search using the pattern\n",
    "#     match = re.search(pattern, ocr_text, re.IGNORECASE)\n",
    "#     extracted_data[2+key]"
   ]
  },
  {
   "cell_type": "code",
   "execution_count": 60,
   "id": "516ed3d6",
   "metadata": {},
   "outputs": [
    {
     "name": "stdout",
     "output_type": "stream",
     "text": [
      "  Time Summary  Distance Avg Speed Max Altitude Avg Altitude Elevation Gain\n",
      "0  01 h09m51 s  53.8mile   46.5mph      1565 ft      9418 ft        7853 ft\n",
      "1  01 h09m00 s  53.9mile   46.5mph      1565 ft      9418 ft        7853 ft\n"
     ]
    },
    {
     "name": "stderr",
     "output_type": "stream",
     "text": [
      "C:\\Users\\msikh\\AppData\\Local\\Temp\\ipykernel_25624\\3634173401.py:51: FutureWarning: The frame.append method is deprecated and will be removed from pandas in a future version. Use pandas.concat instead.\n",
      "  extracted_data_df = extracted_data_df.append(data, ignore_index=True)\n",
      "C:\\Users\\msikh\\AppData\\Local\\Temp\\ipykernel_25624\\3634173401.py:51: FutureWarning: The frame.append method is deprecated and will be removed from pandas in a future version. Use pandas.concat instead.\n",
      "  extracted_data_df = extracted_data_df.append(data, ignore_index=True)\n"
     ]
    }
   ],
   "source": [
    "import re\n",
    "import pandas as pd\n",
    "\n",
    "# Initialize DataFrame to store data\n",
    "data_columns = [\"Time Summary\", \"Distance\", \"Avg Speed\", \"Max Altitude\", \"Avg Altitude\", \"Elevation Gain\"]\n",
    "extracted_data_df = pd.DataFrame(columns=data_columns)\n",
    "\n",
    "# Function to process text\n",
    "def process_text(ocr_text):\n",
    "    # Regex patterns to extract relevant data\n",
    "    patterns = {\n",
    "        \"Time Summary\": r\"Time Summary\\s*([\\d\\w\\s]+?)(?=\\n|$)\",\n",
    "        \"Distance\": r\"Distance\\s*([\\d\\.]+mile)\",\n",
    "        \"Avg Speed\": r\"Avg Speed\\s*([\\d\\.]+\\s*[a-zA-Z]+)\",\n",
    "        \"Max Altitude\": r\"Avg Altitude\\s*([\\d,]+)\",\n",
    "        \"Avg Speed\": r\"Avg Speed\\s*([\\d\\w\\s:.]+?)(?=\\n|$)\",\n",
    "        \"Avg Altitude\": r\"Avg Altitude\\s*([\\d,]+)\"\n",
    "    }\n",
    "\n",
    "    # Extracting and cleaning the data\n",
    "    extracted_data = {}\n",
    "    for key, pattern in patterns.items():\n",
    "        # Search using the pattern\n",
    "        match = re.search(pattern, ocr_text, re.IGNORECASE)\n",
    "        if match:\n",
    "            value = match.group(1).strip()\n",
    "            if key == \"Avg Speed\":\n",
    "                value = re.sub(r\"^\\d+\\.\\d+\\s*\", \"\", value)  # Remove unwanted prefix numbers\n",
    "                value = value.replace(\"Sinpn\", \"mph\").replace(\" \", \".\").replace(\"..\", \"\")\n",
    "            if key in [\"Max Altitude\", \"Avg Altitude\"]:\n",
    "                value = value.replace(\":\", \"\").strip() + \" ft\"  # Correct format and OCR error\n",
    "            extracted_data[key] = value\n",
    "\n",
    "    # Further process for elevation gain\n",
    "    pattern = r\"Avg Altitude\\s*([\\d,]+)\\s*:\\s*([\\d,]+)\"\n",
    "    match = re.search(pattern, ocr_text, re.IGNORECASE)\n",
    "    if match:\n",
    "        avg_altitude_first = match.group(1).replace(',', '').strip()\n",
    "        avg_altitude_next = match.group(2).replace(',', '').strip()\n",
    "        extracted_data['Avg Altitude'] = avg_altitude_next + \" ft\"\n",
    "        extracted_data[\"Elevation Gain\"] = str(int(avg_altitude_next.replace(\" ft\", \"\")) - int(avg_altitude_first.replace(\" ft\", \"\"))) + \" ft\"\n",
    "\n",
    "    return extracted_data\n",
    "\n",
    "# Example texts list\n",
    "texts = [text1,text2]  # You can add more OCR texts to this list\n",
    "\n",
    "# Process each text and append results to DataFrame\n",
    "for text in texts:\n",
    "    data = process_text(text)\n",
    "    extracted_data_df = extracted_data_df.append(data, ignore_index=True)\n",
    "\n",
    "# Show the DataFrame\n",
    "print(extracted_data_df)\n"
   ]
  },
  {
   "cell_type": "code",
   "execution_count": null,
   "id": "ba641d19",
   "metadata": {},
   "outputs": [],
   "source": []
  }
 ],
 "metadata": {
  "kernelspec": {
   "display_name": "Python 3 (ipykernel)",
   "language": "python",
   "name": "python3"
  },
  "language_info": {
   "codemirror_mode": {
    "name": "ipython",
    "version": 3
   },
   "file_extension": ".py",
   "mimetype": "text/x-python",
   "name": "python",
   "nbconvert_exporter": "python",
   "pygments_lexer": "ipython3",
   "version": "3.10.12"
  }
 },
 "nbformat": 4,
 "nbformat_minor": 5
}
